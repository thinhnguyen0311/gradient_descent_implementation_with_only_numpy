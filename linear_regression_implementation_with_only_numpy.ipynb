{
 "cells": [
  {
   "cell_type": "code",
   "execution_count": 18,
   "metadata": {},
   "outputs": [],
   "source": [
    "import numpy as np\n",
    "from numpy import genfromtxt\n",
    "import matplotlib.pyplot as plt"
   ]
  },
  {
   "cell_type": "markdown",
   "metadata": {},
   "source": [
    "# 1. Prepare the data:"
   ]
  },
  {
   "cell_type": "code",
   "execution_count": 19,
   "metadata": {},
   "outputs": [
    {
     "name": "stdout",
     "output_type": "stream",
     "text": [
      "X_b (with shape = (200, 4) =\n",
      "[[ 1.          0.55042679 -0.09835864  0.00757928]\n",
      " [ 1.         -0.07575405 -0.09329791 -0.07372976]\n",
      " [ 1.         -0.16785931 -0.0710307   0.00791667]\n",
      " [ 1.          0.2852446  -0.08655027 -0.02852058]\n",
      " [ 1.          0.3840975  -0.18945175 -0.02885796]\n",
      " [ 1.         -0.19653677 -0.06090924  0.02714744]\n",
      " [ 1.         -0.0318944  -0.11522773 -0.14660425]\n",
      " [ 1.          0.17964406 -0.15976215 -0.1867527 ]\n",
      " [ 1.         -0.19687416 -0.21880398 -0.22251518]\n",
      " [ 1.          0.44820007 -0.21711707 -0.15436404]\n",
      " [ 1.         -0.00287955 -0.20632085 -0.14424258]\n",
      " [ 1.          0.49846997 -0.14491734 -0.21239372]\n",
      " [ 1.         -0.14559211 -0.10746795 -0.00355432]\n",
      " [ 1.          0.10305837 -0.20024798 -0.2015975 ]\n",
      " [ 1.          0.46270749 -0.11489035 -0.07069332]\n",
      " [ 1.          0.43335526 -0.06495783 -0.04741397]\n",
      " [ 1.          0.00285594 -0.10240722  0.15872638]\n",
      " [ 1.          0.72350371 -0.09228576 -0.03762989]\n",
      " [ 1.          0.00757928 -0.15672571 -0.16414811]\n",
      " [ 1.          0.27107456 -0.14525472 -0.16144906]]\n",
      "y (with shape = (200, 1) =\n",
      "[[22.1]\n",
      " [10.4]\n",
      " [12. ]\n",
      " [16.5]\n",
      " [17.9]\n",
      " [ 7.2]\n",
      " [11.8]\n",
      " [13.2]\n",
      " [ 4.8]\n",
      " [15.6]\n",
      " [12.6]\n",
      " [17.4]\n",
      " [ 9.2]\n",
      " [13.7]\n",
      " [19. ]\n",
      " [22.4]\n",
      " [12.5]\n",
      " [24.4]\n",
      " [11.3]\n",
      " [14.6]]\n"
     ]
    }
   ],
   "source": [
    "data = genfromtxt('advertising.csv', delimiter=',', skip_header=1)\n",
    "\n",
    "# Number of samples.\n",
    "N = data.shape[0] \n",
    "\n",
    "# Get the matrix input X and the vector label y.\n",
    "X = data[:,:3]\n",
    "y = data[:,3:]\n",
    "\n",
    "# Normalize input X.\n",
    "maxi = np.max(X)\n",
    "mini = np.min(X)\n",
    "avg = np.mean(X)\n",
    "X = (X-avg) / (maxi-mini)\n",
    "\n",
    "# Add column vetor 1 into X (for bias).\n",
    "X_b = np.c_[np.ones((N, 1)), X]\n",
    "\n",
    "\n",
    "print(f'X_b (with shape = {X_b.shape} =\\n{X_b[:20, :]}')\n",
    "print(f'y (with shape = {y.shape} =\\n{y[:20, :]}')"
   ]
  }
 ],
 "metadata": {
  "kernelspec": {
   "display_name": "Python 3.10.4 64-bit",
   "language": "python",
   "name": "python3"
  },
  "language_info": {
   "codemirror_mode": {
    "name": "ipython",
    "version": 3
   },
   "file_extension": ".py",
   "mimetype": "text/x-python",
   "name": "python",
   "nbconvert_exporter": "python",
   "pygments_lexer": "ipython3",
   "version": "3.10.4"
  },
  "orig_nbformat": 4,
  "vscode": {
   "interpreter": {
    "hash": "c5b339f64b25fa3d208e98c0a31272fcec3830d0cb7cb50b2e276a8fe9331da6"
   }
  }
 },
 "nbformat": 4,
 "nbformat_minor": 2
}
